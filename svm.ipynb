{
 "cells": [
  {
   "cell_type": "code",
   "execution_count": 1,
   "id": "e178ebd1",
   "metadata": {},
   "outputs": [
    {
     "name": "stdout",
     "output_type": "stream",
     "text": [
      "Highest SVM accuracy so far: 0.96, Parameters: {'C': 1, 'degree': 1, 'kernel': 'linear', 'decision_function_shape': 'ovo'}\n",
      "Highest SVM accuracy so far: 0.98, Parameters: {'C': 1, 'degree': 1, 'kernel': 'rbf', 'decision_function_shape': 'ovo'}\n",
      "Highest SVM accuracy so far: 0.98, Parameters: {'C': 5, 'degree': 1, 'kernel': 'rbf', 'decision_function_shape': 'ovo'}\n",
      "Highest SVM accuracy so far: 0.98, Parameters: {'C': 10, 'degree': 1, 'kernel': 'rbf', 'decision_function_shape': 'ovo'}\n"
     ]
    }
   ],
   "source": [
    "#-------------------------------------------------------------------------\n",
    "# AUTHOR: Tim Hsieh\n",
    "# FILENAME: svm.py\n",
    "# SPECIFICATION: simulating grid search to find combination of four SVM hyperparameters to best predict performance\n",
    "# FOR: CS 4210- Assignment #3\n",
    "# TIME SPENT: 5 hours\n",
    "#-----------------------------------------------------------*/\n",
    "\n",
    "#IMPORTANT NOTE: YOU HAVE TO WORK WITH THE PYTHON LIBRARIES numpy AND pandas to complete this code.\n",
    "\n",
    "#importing some Python libraries\n",
    "from sklearn import svm\n",
    "import numpy as np\n",
    "import pandas as pd\n",
    "\n",
    "#defining the hyperparameter values\n",
    "c_values = [1, 5, 10, 100]\n",
    "degree_values = [1, 2, 3]\n",
    "kernel_values = [\"linear\", \"poly\", \"rbf\"]\n",
    "decision_function_shape_values = [\"ovo\", \"ovr\"]\n",
    "\n",
    "df = pd.read_csv('optdigits.tra', sep=',', header=None) #reading the training data by using Pandas library\n",
    "\n",
    "X_training = np.array(df.values)[:, :64] #getting the first 64 fields to create the feature training data and convert them to NumPy array\n",
    "y_training = np.array(df.values)[:, -1] #getting the last field to create the class training data and convert them to NumPy array\n",
    "\n",
    "df = pd.read_csv('optdigits.tes', sep=',', header=None) #reading the training data by using Pandas library\n",
    "\n",
    "X_test = np.array(df.values)[:,:64] #getting the first 64 fields to create the feature testing data and convert them to NumPy array\n",
    "y_test = np.array(df.values)[:,-1] #getting the last field to create the class testing data and convert them to NumPy array\n",
    "\n",
    "# Initialize variables to keep track of the highest accuracy and corresponding hyperparameters\n",
    "highest_accuracy = 0\n",
    "best_hyperparameters = {}\n",
    "\n",
    "#created 4 nested for loops that will iterate through the values of c, degree, kernel, and decision_function_shape\n",
    "for c_value in c_values:\n",
    "    for degree_value in degree_values:\n",
    "        for kernel_value in kernel_values:\n",
    "            for decision_function_shape_value in decision_function_shape_values:\n",
    "\n",
    "                #Create an SVM classifier that will test all combinations of c, degree, kernel, and decision_function_shape.\n",
    "                #For instance svm.SVC(c=1, degree=1, kernel=\"linear\", decision_function_shape = \"ovo\")\n",
    "                clf = svm.SVC(C=c_value, degree=degree_value, kernel=kernel_value, decision_function_shape=decision_function_shape_value)\n",
    "\n",
    "                #Fit SVM to the training data\n",
    "                clf.fit(X_training, y_training)\n",
    "\n",
    "                # Initialize variables to compute accuracy\n",
    "                correct_predictions = 0\n",
    "                total_samples = len(X_test)\n",
    "\n",
    "                #make the SVM prediction for each test sample and start computing its accuracy\n",
    "                #hint: to iterate over two collections simultaneously, use zip()\n",
    "                #Example. for (x_testSample, y_testSample) in zip(X_test, y_test):\n",
    "                #to make a prediction do: clf.predict([x_testSample])\n",
    "                for x_test_sample, y_test_sample in zip(X_test, y_test):\n",
    "                    prediction = clf.predict([x_test_sample])\n",
    "                    if prediction[0] == y_test_sample:\n",
    "                        correct_predictions += 1\n",
    "\n",
    "                accuracy = correct_predictions / total_samples\n",
    "\n",
    "                #check if the calculated accuracy is higher than the previously one calculated. If so, update the highest accuracy and print it together\n",
    "                #with the SVM hyperparameters. Example: \"Highest SVM accuracy so far: 0.92, Parameters: a=1, degree=2, kernel= poly, decision_function_shape = 'ovo'\"\n",
    "                if accuracy > highest_accuracy:\n",
    "                    highest_accuracy = accuracy\n",
    "                    best_hyperparameters = {\n",
    "                        'C': c_value,\n",
    "                        'degree': degree_value,\n",
    "                        'kernel': kernel_value,\n",
    "                        'decision_function_shape': decision_function_shape_value\n",
    "                    }\n",
    "                    print(f\"Highest SVM accuracy so far: {highest_accuracy:.2f}, Parameters: {best_hyperparameters}\")\n"
   ]
  }
 ],
 "metadata": {
  "kernelspec": {
   "display_name": "Python 3 (ipykernel)",
   "language": "python",
   "name": "python3"
  },
  "language_info": {
   "codemirror_mode": {
    "name": "ipython",
    "version": 3
   },
   "file_extension": ".py",
   "mimetype": "text/x-python",
   "name": "python",
   "nbconvert_exporter": "python",
   "pygments_lexer": "ipython3",
   "version": "3.10.9"
  }
 },
 "nbformat": 4,
 "nbformat_minor": 5
}
